{
 "cells": [
  {
   "cell_type": "code",
   "execution_count": 1,
   "metadata": {},
   "outputs": [],
   "source": [
    "from sklearn.model_selection import train_test_split\n",
    "from sklearn import tree\n",
    "from os import system\n",
    "import networkx as nx \n",
    "import pandas as pd\n",
    "import collections\n",
    "import numpy as np\n",
    "import pydotplus\n",
    "import re\n",
    "import os"
   ]
  },
  {
   "cell_type": "code",
   "execution_count": 2,
   "metadata": {},
   "outputs": [],
   "source": [
    "def proc_value_v2(lable_str):\n",
    "    value = [int(re.search(r'value = \\[(\\d+), (\\d+)\\]', lable_str).group(x)) for x in range(1,3)]\n",
    "    prc = max(value) / sum(value) * 100\n",
    "    return prc"
   ]
  },
  {
   "cell_type": "code",
   "execution_count": 3,
   "metadata": {},
   "outputs": [],
   "source": [
    "path = 'DATA/'\n",
    "path_reuslt = 'DATA/RESULT/'\n",
    "file_name = '202006_data_for_tree.csv'\n",
    "png_name = 'dtree.png'\n",
    "dot_name = 'tree.dot'\n",
    "max_depth = 6"
   ]
  },
  {
   "cell_type": "code",
   "execution_count": 4,
   "metadata": {},
   "outputs": [],
   "source": [
    "df = pd.read_csv(path + file_name, index_col=0)"
   ]
  },
  {
   "cell_type": "code",
   "execution_count": 5,
   "metadata": {},
   "outputs": [
    {
     "name": "stdout",
     "output_type": "stream",
     "text": [
      "31332\n"
     ]
    },
    {
     "data": {
      "text/html": [
       "<div>\n",
       "<style scoped>\n",
       "    .dataframe tbody tr th:only-of-type {\n",
       "        vertical-align: middle;\n",
       "    }\n",
       "\n",
       "    .dataframe tbody tr th {\n",
       "        vertical-align: top;\n",
       "    }\n",
       "\n",
       "    .dataframe thead th {\n",
       "        text-align: right;\n",
       "    }\n",
       "</style>\n",
       "<table border=\"1\" class=\"dataframe\">\n",
       "  <thead>\n",
       "    <tr style=\"text-align: right;\">\n",
       "      <th></th>\n",
       "      <th>customer_id</th>\n",
       "      <th>count_</th>\n",
       "      <th>avg_score</th>\n",
       "      <th>avg_amt</th>\n",
       "      <th>allow_f</th>\n",
       "      <th>count_f</th>\n",
       "      <th>count_change_alert_settings</th>\n",
       "      <th>count_pos_purchase</th>\n",
       "      <th>avg_score_pos_purchase</th>\n",
       "      <th>avg_amt_pos_purchase</th>\n",
       "      <th>...</th>\n",
       "      <th>count_close_account</th>\n",
       "      <th>count_view_statement</th>\n",
       "      <th>count_t_socialatm</th>\n",
       "      <th>avg_score_t_socialatm</th>\n",
       "      <th>avg_amt_t_socialatm</th>\n",
       "      <th>count_t_ent_more_30</th>\n",
       "      <th>count_t_s_less_1</th>\n",
       "      <th>sum_term_nm</th>\n",
       "      <th>sum_pay_money</th>\n",
       "      <th>target</th>\n",
       "    </tr>\n",
       "  </thead>\n",
       "  <tbody>\n",
       "    <tr>\n",
       "      <th>0</th>\n",
       "      <td>PF12320193</td>\n",
       "      <td>173</td>\n",
       "      <td>184</td>\n",
       "      <td>104456.0</td>\n",
       "      <td>2</td>\n",
       "      <td>2</td>\n",
       "      <td>0</td>\n",
       "      <td>29</td>\n",
       "      <td>38</td>\n",
       "      <td>4955</td>\n",
       "      <td>...</td>\n",
       "      <td>0</td>\n",
       "      <td>12</td>\n",
       "      <td>0</td>\n",
       "      <td>0</td>\n",
       "      <td>0</td>\n",
       "      <td>105</td>\n",
       "      <td>7</td>\n",
       "      <td>14</td>\n",
       "      <td>2</td>\n",
       "      <td>1</td>\n",
       "    </tr>\n",
       "    <tr>\n",
       "      <th>1</th>\n",
       "      <td>OW28028647</td>\n",
       "      <td>46</td>\n",
       "      <td>210</td>\n",
       "      <td>940744.0</td>\n",
       "      <td>0</td>\n",
       "      <td>0</td>\n",
       "      <td>0</td>\n",
       "      <td>13</td>\n",
       "      <td>65</td>\n",
       "      <td>74236</td>\n",
       "      <td>...</td>\n",
       "      <td>0</td>\n",
       "      <td>12</td>\n",
       "      <td>0</td>\n",
       "      <td>0</td>\n",
       "      <td>0</td>\n",
       "      <td>19</td>\n",
       "      <td>1</td>\n",
       "      <td>1</td>\n",
       "      <td>0</td>\n",
       "      <td>0</td>\n",
       "    </tr>\n",
       "    <tr>\n",
       "      <th>2</th>\n",
       "      <td>TB15704833</td>\n",
       "      <td>155</td>\n",
       "      <td>202</td>\n",
       "      <td>207987.0</td>\n",
       "      <td>1</td>\n",
       "      <td>1</td>\n",
       "      <td>0</td>\n",
       "      <td>67</td>\n",
       "      <td>107</td>\n",
       "      <td>39836</td>\n",
       "      <td>...</td>\n",
       "      <td>0</td>\n",
       "      <td>2</td>\n",
       "      <td>0</td>\n",
       "      <td>0</td>\n",
       "      <td>0</td>\n",
       "      <td>26</td>\n",
       "      <td>6</td>\n",
       "      <td>0</td>\n",
       "      <td>0</td>\n",
       "      <td>1</td>\n",
       "    </tr>\n",
       "    <tr>\n",
       "      <th>3</th>\n",
       "      <td>TB22276042</td>\n",
       "      <td>25</td>\n",
       "      <td>256</td>\n",
       "      <td>5000000.0</td>\n",
       "      <td>0</td>\n",
       "      <td>0</td>\n",
       "      <td>0</td>\n",
       "      <td>0</td>\n",
       "      <td>0</td>\n",
       "      <td>0</td>\n",
       "      <td>...</td>\n",
       "      <td>0</td>\n",
       "      <td>8</td>\n",
       "      <td>0</td>\n",
       "      <td>0</td>\n",
       "      <td>0</td>\n",
       "      <td>12</td>\n",
       "      <td>0</td>\n",
       "      <td>0</td>\n",
       "      <td>0</td>\n",
       "      <td>0</td>\n",
       "    </tr>\n",
       "    <tr>\n",
       "      <th>4</th>\n",
       "      <td>PF11735814</td>\n",
       "      <td>1</td>\n",
       "      <td>87</td>\n",
       "      <td>0.0</td>\n",
       "      <td>0</td>\n",
       "      <td>0</td>\n",
       "      <td>0</td>\n",
       "      <td>0</td>\n",
       "      <td>0</td>\n",
       "      <td>0</td>\n",
       "      <td>...</td>\n",
       "      <td>0</td>\n",
       "      <td>0</td>\n",
       "      <td>0</td>\n",
       "      <td>0</td>\n",
       "      <td>0</td>\n",
       "      <td>1</td>\n",
       "      <td>0</td>\n",
       "      <td>0</td>\n",
       "      <td>0</td>\n",
       "      <td>0</td>\n",
       "    </tr>\n",
       "  </tbody>\n",
       "</table>\n",
       "<p>5 rows × 29 columns</p>\n",
       "</div>"
      ],
      "text/plain": [
       "  customer_id  count_  avg_score    avg_amt  allow_f  count_f  \\\n",
       "0  PF12320193     173        184   104456.0        2        2   \n",
       "1  OW28028647      46        210   940744.0        0        0   \n",
       "2  TB15704833     155        202   207987.0        1        1   \n",
       "3  TB22276042      25        256  5000000.0        0        0   \n",
       "4  PF11735814       1         87        0.0        0        0   \n",
       "\n",
       "   count_change_alert_settings  count_pos_purchase  avg_score_pos_purchase  \\\n",
       "0                            0                  29                      38   \n",
       "1                            0                  13                      65   \n",
       "2                            0                  67                     107   \n",
       "3                            0                   0                       0   \n",
       "4                            0                   0                       0   \n",
       "\n",
       "   avg_amt_pos_purchase  ...  count_close_account  count_view_statement  \\\n",
       "0                  4955  ...                    0                    12   \n",
       "1                 74236  ...                    0                    12   \n",
       "2                 39836  ...                    0                     2   \n",
       "3                     0  ...                    0                     8   \n",
       "4                     0  ...                    0                     0   \n",
       "\n",
       "   count_t_socialatm  avg_score_t_socialatm  avg_amt_t_socialatm  \\\n",
       "0                  0                      0                    0   \n",
       "1                  0                      0                    0   \n",
       "2                  0                      0                    0   \n",
       "3                  0                      0                    0   \n",
       "4                  0                      0                    0   \n",
       "\n",
       "   count_t_ent_more_30  count_t_s_less_1  sum_term_nm  sum_pay_money  target  \n",
       "0                  105                 7           14              2       1  \n",
       "1                   19                 1            1              0       0  \n",
       "2                   26                 6            0              0       1  \n",
       "3                   12                 0            0              0       0  \n",
       "4                    1                 0            0              0       0  \n",
       "\n",
       "[5 rows x 29 columns]"
      ]
     },
     "execution_count": 5,
     "metadata": {},
     "output_type": "execute_result"
    }
   ],
   "source": [
    "print(len(df))\n",
    "df = df.fillna(0)\n",
    "df.head()"
   ]
  },
  {
   "cell_type": "code",
   "execution_count": 6,
   "metadata": {},
   "outputs": [],
   "source": [
    "train, test = train_test_split(df.drop(columns =['customer_id','count_f','allow_f']), \n",
    "                               test_size=0.1,\n",
    "                               random_state=8,\n",
    "                               shuffle=True)\n",
    "\n",
    "X_n_train = train.drop(columns = ['target']).copy()\n",
    "Y_n_train = train['target'].copy()\n",
    "X_n_test = test.drop(columns = ['target']).copy()\n",
    "Y_n_test = test['target'].copy()"
   ]
  },
  {
   "cell_type": "code",
   "execution_count": 7,
   "metadata": {},
   "outputs": [
    {
     "data": {
      "text/plain": [
       "DecisionTreeClassifier(criterion='entropy', max_depth=6, random_state=0)"
      ]
     },
     "execution_count": 7,
     "metadata": {},
     "output_type": "execute_result"
    }
   ],
   "source": [
    "dectree = tree.DecisionTreeClassifier(random_state=0, max_depth=max_depth, criterion='entropy')\n",
    "dectree.fit(X_n_train, Y_n_train)"
   ]
  },
  {
   "cell_type": "code",
   "execution_count": 8,
   "metadata": {},
   "outputs": [],
   "source": [
    "dot_data = tree.export_graphviz(dectree,\n",
    "                     out_file=None, \n",
    "                     feature_names = X_n_train.columns, \n",
    "                     class_names = ['NOT_F','F'],\n",
    "                     filled=True,\n",
    "                     rounded=True)\n",
    "\n",
    "pydotplus_graph = pydotplus.graph_from_dot_data(dot_data)\n",
    "G = nx.nx_pydot.from_pydot(pydotplus_graph)"
   ]
  },
  {
   "cell_type": "code",
   "execution_count": 9,
   "metadata": {},
   "outputs": [],
   "source": [
    "leaf_nodes = [x for x in G.nodes() if G.out_degree(x)==0 and G.in_degree(x)==1]\n",
    "# print(leaf_nodes)"
   ]
  },
  {
   "cell_type": "code",
   "execution_count": 10,
   "metadata": {},
   "outputs": [],
   "source": [
    "target = 'class = F'\n",
    "target_leaf = [x for x in leaf_nodes if G.nodes[x]['label'].find(target) != -1 \n",
    "               and proc_value_v2(G.nodes[x]['label']) > 90]\n",
    "# print(target_leaf)"
   ]
  },
  {
   "cell_type": "code",
   "execution_count": 11,
   "metadata": {},
   "outputs": [],
   "source": [
    "target_nodes = list()\n",
    "for x in target_leaf:\n",
    "    target_nodes += list(nx.all_simple_paths(G, '0', x))[0]\n",
    "# print(set(target_nodes))"
   ]
  },
  {
   "cell_type": "code",
   "execution_count": 12,
   "metadata": {},
   "outputs": [],
   "source": [
    "for x in G.nodes:\n",
    "    if x not in set(target_nodes):\n",
    "        pydotplus_graph.del_node(x)"
   ]
  },
  {
   "cell_type": "code",
   "execution_count": 13,
   "metadata": {},
   "outputs": [
    {
     "data": {
      "text/plain": [
       "True"
      ]
     },
     "execution_count": 13,
     "metadata": {},
     "output_type": "execute_result"
    }
   ],
   "source": [
    "pydotplus_graph.write_png(path_reuslt + 'graph_V2.png')"
   ]
  }
 ],
 "metadata": {
  "kernelspec": {
   "display_name": "Python 3",
   "language": "python",
   "name": "python3"
  },
  "language_info": {
   "codemirror_mode": {
    "name": "ipython",
    "version": 3
   },
   "file_extension": ".py",
   "mimetype": "text/x-python",
   "name": "python",
   "nbconvert_exporter": "python",
   "pygments_lexer": "ipython3",
   "version": "3.6.1"
  }
 },
 "nbformat": 4,
 "nbformat_minor": 4
}
