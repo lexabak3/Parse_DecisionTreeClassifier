{
 "cells": [
  {
   "cell_type": "code",
   "execution_count": null,
   "metadata": {},
   "outputs": [],
   "source": [
    "from sklearn.model_selection import train_test_split\n",
    "from IPython.display import Image\n",
    "from sklearn import tree\n",
    "from os import system\n",
    "import networkx as nx \n",
    "import pandas as pd\n",
    "import collections\n",
    "import numpy as np\n",
    "import pydotplus\n",
    "import re\n",
    "import os"
   ]
  },
  {
   "cell_type": "code",
   "execution_count": null,
   "metadata": {},
   "outputs": [],
   "source": [
    "def proc_value_v2(lable_str):\n",
    "    value = [int(re.search(r'value = \\[(\\d+), (\\d+)\\]', lable_str).group(x)) for x in range(1,3)]\n",
    "    prc = max(value) / sum(value) * 100\n",
    "    return prc\n",
    "\n",
    "\n",
    "def max_value_from_label(lable_str):    \n",
    "    return max([int(re.search(r'value = \\[(\\d+), (\\d+)\\]', lable_str).group(x)) for x in range(1,3)])\n",
    "\n",
    "\n",
    "def get_name_for_node(G):\n",
    "    name_nodes = dict.fromkeys(list(G.nodes))\n",
    "    for x in G.nodes:\n",
    "        list_neighbors = [x for x in nx.all_neighbors(G, x)]\n",
    "        if x == '0':\n",
    "            name_nodes[x] = 'Root'\n",
    "            name_nodes[list_neighbors[0]] = 'True'\n",
    "            name_nodes[list_neighbors[1]] = 'False'\n",
    "        elif len(list_neighbors) < 2:\n",
    "            # Leaf\n",
    "            pass\n",
    "        elif len(list_neighbors) == 3:\n",
    "            name_nodes[list_neighbors[1]] = 'True'\n",
    "            name_nodes[list_neighbors[2]] = 'False'\n",
    "        else:\n",
    "            print('What do u do in this case?!')\n",
    "    return name_nodes\n",
    "\n",
    "\n",
    "def sort_char_like_num(list_char):\n",
    "    list_num = [map(int, list_char)]\n",
    "    list_num.sort()\n",
    "    return [map(str, list_num)]\n",
    "\n",
    "\n",
    "def change_relational_op(relational):\n",
    "    relational = relational.split(' ')\n",
    "    if relational[1] == '<=':\n",
    "        return relational[0]+' > ' + relational[2], True\n",
    "    elif relational[1] == '=>':\n",
    "        return relational[0]+' < ' + relational[2], True\n",
    "    else:\n",
    "        return relational, False"
   ]
  },
  {
   "cell_type": "code",
   "execution_count": null,
   "metadata": {},
   "outputs": [],
   "source": [
    "path = 'DATA/'\n",
    "path_reuslt = 'DATA/RESULT/'\n",
    "file_name = '202006_data_for_tree.csv'\n",
    "png_name = 'dtree.png'\n",
    "dot_name = 'tree.dot'\n",
    "max_depth = 5"
   ]
  },
  {
   "cell_type": "code",
   "execution_count": null,
   "metadata": {},
   "outputs": [],
   "source": [
    "df = pd.read_csv(path + file_name, index_col=0)"
   ]
  },
  {
   "cell_type": "code",
   "execution_count": null,
   "metadata": {},
   "outputs": [],
   "source": [
    "print(len(df))\n",
    "df = df.fillna(0)"
   ]
  },
  {
   "cell_type": "code",
   "execution_count": null,
   "metadata": {},
   "outputs": [],
   "source": [
    "train, test = train_test_split(df.drop(columns =['customer_id','count_f','allow_f']), \n",
    "                               test_size=0.1,\n",
    "                               random_state=8,\n",
    "                               shuffle=True)\n",
    "\n",
    "X_n_train = train.drop(columns = ['target']).copy()\n",
    "Y_n_train = train['target'].copy()\n",
    "X_n_test = test.drop(columns = ['target']).copy()\n",
    "Y_n_test = test['target'].copy()"
   ]
  },
  {
   "cell_type": "code",
   "execution_count": null,
   "metadata": {},
   "outputs": [],
   "source": [
    "dectree = tree.DecisionTreeClassifier(random_state=0, max_depth=max_depth, criterion='entropy')\n",
    "dectree.fit(X_n_train, Y_n_train)"
   ]
  },
  {
   "cell_type": "code",
   "execution_count": null,
   "metadata": {},
   "outputs": [],
   "source": [
    "dot_data = tree.export_graphviz(dectree,\n",
    "                     out_file=None, \n",
    "                     feature_names = X_n_train.columns, \n",
    "                     class_names = ['NOT_F','F'],\n",
    "                     filled=True,\n",
    "                     rounded=True)\n",
    "\n",
    "pydotplus_graph = pydotplus.graph_from_dot_data(dot_data)\n",
    "G = nx.nx_pydot.from_pydot(pydotplus_graph)\n",
    "\n",
    "leaf_nodes = [x for x in G.nodes() if G.out_degree(x)==0 and G.in_degree(x)==1]\n",
    "# print(leaf_nodes)\n",
    "\n",
    "name_nodes = get_name_for_node(G)\n",
    "\n",
    "for node in pydotplus_graph.get_node_list()[2:]:\n",
    "    node_num = node.to_string().split(' ')[0]\n",
    "    name_nodes\n",
    "    node.set('label', 'Node=' + node_num + '\\\\n' \n",
    "             + node.get_attributes()['label'][1:])\n",
    "\n",
    "for edge in pydotplus_graph.get_edge_list():\n",
    "    bolean_name = name_nodes[edge.get_destination()]\n",
    "    edge.set('headlabel', '\"' + bolean_name + '\"')\n",
    "    edge.set('labeldistance', '2.5')\n",
    "    if bolean_name == 'True':\n",
    "        edge.set('labelangle', '45')\n",
    "    else:\n",
    "        edge.set('labelangle', '-45')\n",
    "\n",
    "TARGET = 'class = F'\n",
    "target_leaf = [x for x in leaf_nodes if G.nodes[x]['label'].find(TARGET) != -1 \n",
    "               and proc_value_v2(G.nodes[x]['label']) > 90]\n",
    "# print(target_leaf)\n",
    "\n",
    "target_nodes = list()\n",
    "list_path_to_target = []\n",
    "for x in target_leaf:\n",
    "    path_to_target = list(nx.all_simple_paths(G, '0', x))[0]\n",
    "    list_path_to_target.append(path_to_target)\n",
    "    target_nodes += path_to_target\n",
    "# print(set(target_nodes))\n",
    "\n",
    "for x in G.nodes:\n",
    "    if x not in set(target_nodes):\n",
    "        pydotplus_graph.del_node(x)\n",
    "\n",
    "for path in list_path_to_target:\n",
    "    print(path)\n",
    "    for node in range(len(path)):\n",
    "        label = pydotplus_graph.get_node(path[node])[0].get_attributes()['label']\n",
    "        if len(label.split('\\\\n')) > 5:\n",
    "            way = name_nodes[path[node+1]]\n",
    "            relational = label.split('\\\\n')[1]\n",
    "            if way == 'False':\n",
    "                relational, tmp = change_relational_op(relational)\n",
    "                if tmp:\n",
    "                    print('True', relational)\n",
    "                else:\n",
    "                    print(way, relational)\n",
    "            else:\n",
    "                print(way, relational)\n",
    "        else:\n",
    "            print(TARGET, '- value:', max_value_from_label(label), proc_value_v2(label), '%\\n')\n"
   ]
  },
  {
   "cell_type": "code",
   "execution_count": null,
   "metadata": {},
   "outputs": [],
   "source": [
    "dict_rule = {}\n",
    "depth = 5\n",
    "state = 0\n",
    "\n",
    "for path in list_path_to_target:\n",
    "    rule = ''\n",
    "    key_rule = ''\n",
    "    # print(path)\n",
    "    rule += str(path) +'\\n'\n",
    "    for node in range(len(path)):\n",
    "        label = pydotplus_graph.get_node(path[node])[0].get_attributes()['label']\n",
    "        if len(label.split('\\\\n')) > 5:\n",
    "            way = name_nodes[path[node+1]]\n",
    "            relational = label.split('\\\\n')[1]\n",
    "            if way == 'False':\n",
    "                relational, tmp = change_relational_op(relational)\n",
    "                if tmp:\n",
    "                    # print('True', relational)\n",
    "                    rule += 'True ' + relational + '\\n'\n",
    "                else:\n",
    "                    # print(way, relational)\n",
    "                    rule += way + ' ' + relational + '\\n'\n",
    "            else:\n",
    "                # print(way, relational)\n",
    "                rule += way + ' ' + relational + '\\n'\n",
    "        else:\n",
    "            max_value = str(max_value_from_label(label))\n",
    "            print_line = TARGET + ' - value: ' + max_value + ' ' + str(proc_value_v2(label)) + '%'\n",
    "            # print(print_line + '\\n')\n",
    "            rule += print_line\n",
    "    key_rule = str(depth) + '_' + str(state) + '_' + path[-1] + '_' + max_value\n",
    "\n",
    "    print(key_rule)\n",
    "    print([int(max_value), rule])\n",
    "    "
   ]
  },
  {
   "cell_type": "code",
   "execution_count": null,
   "metadata": {},
   "outputs": [],
   "source": [
    "pydotplus_graph.write_png(path_reuslt + 'graph_V3.png')"
   ]
  },
  {
   "cell_type": "code",
   "execution_count": null,
   "metadata": {
    "scrolled": true
   },
   "outputs": [],
   "source": [
    "show_graph = pydotplus.graph_from_dot_data(dot_data)\n",
    "Image(show_graph.create_png())"
   ]
  }
 ],
 "metadata": {
  "kernelspec": {
   "display_name": "Python 3",
   "language": "python",
   "name": "python3"
  },
  "language_info": {
   "codemirror_mode": {
    "name": "ipython",
    "version": 3
   },
   "file_extension": ".py",
   "mimetype": "text/x-python",
   "name": "python",
   "nbconvert_exporter": "python",
   "pygments_lexer": "ipython3",
   "version": "3.6.1"
  }
 },
 "nbformat": 4,
 "nbformat_minor": 4
}
