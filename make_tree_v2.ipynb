{
 "cells": [
  {
   "cell_type": "code",
   "execution_count": 1,
   "metadata": {},
   "outputs": [],
   "source": [
    "from sklearn.model_selection import train_test_split\n",
    "from sklearn import tree\n",
    "from os import system\n",
    "import networkx as nx \n",
    "import pandas as pd\n",
    "import collections\n",
    "import numpy as np\n",
    "import pydotplus\n",
    "import re\n",
    "import os"
   ]
  },
  {
   "cell_type": "code",
   "execution_count": 2,
   "metadata": {},
   "outputs": [],
   "source": [
    "def proc_value_v2(lable_str):\n",
    "    value = [int(re.search(r'value = \\[(\\d+), (\\d+)\\]', lable_str).group(x)) for x in range(1,3)]\n",
    "    prc = max(value) / sum(value) * 100\n",
    "    return prc"
   ]
  },
  {
   "cell_type": "code",
   "execution_count": 3,
   "metadata": {},
   "outputs": [],
   "source": [
    "path = 'DATA/'\n",
    "path_reuslt = 'DATA/RESULT/'\n",
    "file_name = '202006_data_for_tree.csv'\n",
    "png_name = 'dtree.png'\n",
    "dot_name = 'tree.dot'\n",
    "max_depth = 6"
   ]
  },
  {
   "cell_type": "code",
   "execution_count": 4,
   "metadata": {},
   "outputs": [],
   "source": [
    "df = pd.read_csv(path + file_name, index_col=0)"
   ]
  },
  {
   "cell_type": "code",
   "execution_count": 14,
   "metadata": {},
   "outputs": [
    {
     "name": "stdout",
     "output_type": "stream",
     "text": [
      "31332\n"
     ]
    }
   ],
   "source": [
    "print(len(df))\n",
    "df = df.fillna(0)"
   ]
  },
  {
   "cell_type": "code",
   "execution_count": 6,
   "metadata": {},
   "outputs": [],
   "source": [
    "train, test = train_test_split(df.drop(columns =['customer_id','count_f','allow_f']), \n",
    "                               test_size=0.1,\n",
    "                               random_state=8,\n",
    "                               shuffle=True)\n",
    "\n",
    "X_n_train = train.drop(columns = ['target']).copy()\n",
    "Y_n_train = train['target'].copy()\n",
    "X_n_test = test.drop(columns = ['target']).copy()\n",
    "Y_n_test = test['target'].copy()"
   ]
  },
  {
   "cell_type": "code",
   "execution_count": 7,
   "metadata": {},
   "outputs": [
    {
     "data": {
      "text/plain": [
       "DecisionTreeClassifier(criterion='entropy', max_depth=6, random_state=0)"
      ]
     },
     "execution_count": 7,
     "metadata": {},
     "output_type": "execute_result"
    }
   ],
   "source": [
    "dectree = tree.DecisionTreeClassifier(random_state=0, max_depth=max_depth, criterion='entropy')\n",
    "dectree.fit(X_n_train, Y_n_train)"
   ]
  },
  {
   "cell_type": "code",
   "execution_count": 8,
   "metadata": {},
   "outputs": [],
   "source": [
    "dot_data = tree.export_graphviz(dectree,\n",
    "                     out_file=None, \n",
    "                     feature_names = X_n_train.columns, \n",
    "                     class_names = ['NOT_F','F'],\n",
    "                     filled=True,\n",
    "                     rounded=True)\n",
    "\n",
    "pydotplus_graph = pydotplus.graph_from_dot_data(dot_data)\n",
    "G = nx.nx_pydot.from_pydot(pydotplus_graph)"
   ]
  },
  {
   "cell_type": "code",
   "execution_count": 9,
   "metadata": {},
   "outputs": [],
   "source": [
    "leaf_nodes = [x for x in G.nodes() if G.out_degree(x)==0 and G.in_degree(x)==1]\n",
    "# print(leaf_nodes)"
   ]
  },
  {
   "cell_type": "code",
   "execution_count": 10,
   "metadata": {},
   "outputs": [],
   "source": [
    "target = 'class = F'\n",
    "target_leaf = [x for x in leaf_nodes if G.nodes[x]['label'].find(target) != -1 \n",
    "               and proc_value_v2(G.nodes[x]['label']) > 90]\n",
    "# print(target_leaf)"
   ]
  },
  {
   "cell_type": "code",
   "execution_count": 11,
   "metadata": {},
   "outputs": [],
   "source": [
    "target_nodes = list()\n",
    "for x in target_leaf:\n",
    "    target_nodes += list(nx.all_simple_paths(G, '0', x))[0]\n",
    "# print(set(target_nodes))"
   ]
  },
  {
   "cell_type": "code",
   "execution_count": 12,
   "metadata": {},
   "outputs": [],
   "source": [
    "for x in G.nodes:\n",
    "    if x not in set(target_nodes):\n",
    "        pydotplus_graph.del_node(x)"
   ]
  },
  {
   "cell_type": "code",
   "execution_count": 13,
   "metadata": {},
   "outputs": [
    {
     "data": {
      "text/plain": [
       "True"
      ]
     },
     "execution_count": 13,
     "metadata": {},
     "output_type": "execute_result"
    }
   ],
   "source": [
    "pydotplus_graph.write_png(path_reuslt + 'graph_V2.png')"
   ]
  }
 ],
 "metadata": {
  "kernelspec": {
   "display_name": "Python 3",
   "language": "python",
   "name": "python3"
  },
  "language_info": {
   "codemirror_mode": {
    "name": "ipython",
    "version": 3
   },
   "file_extension": ".py",
   "mimetype": "text/x-python",
   "name": "python",
   "nbconvert_exporter": "python",
   "pygments_lexer": "ipython3",
   "version": "3.6.1"
  }
 },
 "nbformat": 4,
 "nbformat_minor": 4
}
